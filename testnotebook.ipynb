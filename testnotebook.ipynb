{
 "cells": [
  {
   "cell_type": "code",
   "execution_count": null,
   "id": "9fa64942",
   "metadata": {},
   "outputs": [],
   "source": [
    "# --- Nouvelle section pour les taux Empruntis ---\n",
    "st.sidebar.markdown(\"---\")\n",
    "st.sidebar.header(\"Taux Actuels du Marché (Empruntis)\")\n",
    "\n",
    "if st.sidebar.button(\"Récupérer les taux Empruntis 📊\"):\n",
    "    with st.spinner(\"Récupération des taux Empruntis en cours...\"):\n",
    "        empruntis_rates = get_empruntis_rates()\n",
    "        if empruntis_rates:\n",
    "            st.sidebar.subheader(\"Taux Moyens Empruntis :\")\n",
    "            # Affiche chaque taux trouvé pour les durées spécifiées\n",
    "            for duration in sorted(empruntis_rates.keys()): # Pour un affichage ordonné\n",
    "                st.sidebar.success(f\"**{duration} ans : {empruntis_rates[duration]} %**\")\n",
    "            \n",
    "            # Optionnel : Vous pourriez utiliser ces taux pour pré-remplir un champ\n",
    "            # ou les afficher dans le corps principal de l'application si pertinent.\n",
    "        else:\n",
    "            st.sidebar.error(\"Les taux Empruntis n'ont pas pu être récupérés.\")\n"
   ]
  },
  {
   "cell_type": "code",
   "execution_count": null,
   "id": "049655f6",
   "metadata": {},
   "outputs": [],
   "source": [
    "def get_empruntis_rates():\n",
    "    \"\"\"\n",
    "    Récupère les taux moyens immobiliers pour 15, 20 et 25 ans depuis le site Empruntis.\n",
    "    Retourne un dictionnaire {durée: taux_moyen}.\n",
    "    \"\"\"\n",
    "    url = \"https://www.empruntis.com/financement/actualites/barometre-national.php\"\n",
    "    \n",
    "    # Dictionnaire pour stocker les taux par durée\n",
    "    rates = {} \n",
    "    \n",
    "    try:\n",
    "        response = requests.get(url)\n",
    "        response.raise_for_status()  # Lève une exception pour les codes d'état HTTP erreurs (4xx ou 5xx)\n",
    "\n",
    "        soup = BeautifulSoup(response.text, 'html.parser')\n",
    "        all_text = soup.get_text() # Récupère tout le texte de la page\n",
    "\n",
    "        # Regex pour trouver une durée (15, 20, 25 ans) suivie de deux pourcentages.\n",
    "        # Le deuxième pourcentage est généralement le \"Taux Moyen\" sur ces baromètres.\n",
    "        # Exemple de motif recherché dans le texte : \"15 ans. 2,25 % (stable) 2,65 % (stable)\"\n",
    "        # On capture la durée, puis le premier pourcentage (mini), et enfin le second (moyen).\n",
    "        pattern = re.compile(r'(\\d{2})\\s*ans\\D*([\\d,\\.]+\\s*%)(\\s*\\(\\w+\\))?\\s*([\\d,\\.]+\\s*%)')\n",
    "        \n",
    "        # Parcourir toutes les correspondances trouvées dans le texte\n",
    "        for match in pattern.finditer(all_text):\n",
    "            duration = int(match.group(1)) # Capture la durée (ex: 15, 20, 25)\n",
    "            raw_average_rate = match.group(4) # Capture le deuxième pourcentage, qui est le taux moyen\n",
    "            \n",
    "            # Si la durée est parmi celles que nous cherchons\n",
    "            if duration in [15, 20, 25]:\n",
    "                # Nettoyer le texte du taux (remplacer ',' par '.', supprimer '%', espaces)\n",
    "                cleaned_rate = raw_average_rate.replace(',', '.').replace('%', '').strip()\n",
    "                rates[duration] = float(cleaned_rate) # Convertir en float et stocker dans le dictionnaire\n",
    "                \n",
    "        # Vérifier si des taux ont été trouvés\n",
    "        if rates:\n",
    "            return rates\n",
    "        else:\n",
    "            st.warning(\"Impossible de trouver les taux moyens pour 15, 20 et 25 ans sur Empruntis. La structure du site a peut-être changé ou le motif de recherche est incorrect.\")\n",
    "            return None\n",
    "\n",
    "    except requests.exceptions.RequestException as e:\n",
    "        st.error(f\"Erreur lors de la récupération de la page web Empruntis : {e}\")\n",
    "        return None\n",
    "    except Exception as e:\n",
    "        st.error(f\"Une erreur inattendue s'est produite lors du scraping Empruntis : {e}\")\n",
    "        return None\n",
    "\n"
   ]
  },
  {
   "cell_type": "markdown",
   "id": "66a4c4a4",
   "metadata": {},
   "source": [
    "https://www.igedd.developpement-durable.gouv.fr/prix-immobilier-evolution-a-long-terme-a1048.html\n"
   ]
  },
  {
   "cell_type": "markdown",
   "id": "93ff30b6",
   "metadata": {},
   "source": [
    "https://www.data.gouv.fr/fr/datasets/demandes-de-valeurs-foncieres/"
   ]
  },
  {
   "cell_type": "markdown",
   "id": "9ef20e6d",
   "metadata": {},
   "source": []
  }
 ],
 "metadata": {
  "language_info": {
   "name": "python"
  }
 },
 "nbformat": 4,
 "nbformat_minor": 5
}
